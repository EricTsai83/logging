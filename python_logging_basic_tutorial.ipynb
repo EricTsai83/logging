{
 "cells": [
  {
   "cell_type": "markdown",
   "id": "20e5740d-0b01-4068-a6ab-5d82c9dde0b5",
   "metadata": {},
   "source": [
    "## Import package"
   ]
  },
  {
   "cell_type": "code",
   "execution_count": 1,
   "id": "df4b4ee8-361f-4d4a-a721-ac92910b58b2",
   "metadata": {
    "execution": {
     "iopub.execute_input": "2022-05-18T15:51:31.878083Z",
     "iopub.status.busy": "2022-05-18T15:51:31.877081Z",
     "iopub.status.idle": "2022-05-18T15:51:31.910075Z",
     "shell.execute_reply": "2022-05-18T15:51:31.909078Z",
     "shell.execute_reply.started": "2022-05-18T15:51:31.878083Z"
    },
    "tags": []
   },
   "outputs": [],
   "source": [
    "import logging"
   ]
  },
  {
   "cell_type": "markdown",
   "id": "599f00b6-a29d-437c-b4c4-72a65c9bf412",
   "metadata": {},
   "source": [
    "## Logging config\n",
    "You can use logging.basicConfig(...) to set config you want."
   ]
  },
  {
   "cell_type": "code",
   "execution_count": 2,
   "id": "be226202-6acd-4b73-a071-9cf77bb9098f",
   "metadata": {
    "execution": {
     "iopub.execute_input": "2022-05-17T06:58:32.204316Z",
     "iopub.status.busy": "2022-05-17T06:58:32.203316Z",
     "iopub.status.idle": "2022-05-17T06:58:32.225312Z",
     "shell.execute_reply": "2022-05-17T06:58:32.224314Z",
     "shell.execute_reply.started": "2022-05-17T06:58:32.204316Z"
    }
   },
   "outputs": [],
   "source": [
    "logging.basicConfig(\n",
    "    filename='data.log',\n",
    "    filemode='a',  # a:append ; w:overwrite\n",
    "    level=logging.INFO,\n",
    "    format='%(asctime)s - %(name)s - %(levelname)s - %(message)s',\n",
    "    datefmt='%d/%m/%Y %H:%M:%S',\n",
    "    )"
   ]
  },
  {
   "cell_type": "markdown",
   "id": "d595dfeb-abbc-4bf2-aee6-8af4ddc8c32f",
   "metadata": {},
   "source": [
    "## The Five Levels of Logging"
   ]
  },
  {
   "cell_type": "markdown",
   "id": "edefd4a1-c3bf-4829-9315-252d2e938579",
   "metadata": {},
   "source": [
    "1. DEBUG: It is used for diagnosing the problem. It gives a piece of detailed information about the problem. The severity level is 10.\n",
    "2. INFO: It gives the confirmation message of the successful execution of the program. The severity level is 20.\n",
    "3. WARNING: The message is for when an unexpected situation occurs. The severity level is 30.\n",
    "4. ERROR: It is due to a more serious problem than a warning. It can be due to some inbuilt error Like syntax or logical error. The severity level is 40.\n",
    "5. CRITICAL: It occurs when the program execution stops and it can not run itself anymore. The severity level is 50."
   ]
  },
  {
   "cell_type": "code",
   "execution_count": 3,
   "id": "2465b246-61c5-4115-9d23-49b796a6f930",
   "metadata": {
    "execution": {
     "iopub.execute_input": "2022-05-17T06:58:32.227312Z",
     "iopub.status.busy": "2022-05-17T06:58:32.227312Z",
     "iopub.status.idle": "2022-05-17T06:58:32.257307Z",
     "shell.execute_reply": "2022-05-17T06:58:32.255310Z",
     "shell.execute_reply.started": "2022-05-17T06:58:32.227312Z"
    }
   },
   "outputs": [],
   "source": [
    "logging.debug('This is a debug message')\n",
    "logging.info('This is an info message')\n",
    "logging.warning('This is a warning message')\n",
    "logging.error('This is an error message')\n",
    "logging.critical('This is a critical message')"
   ]
  },
  {
   "cell_type": "markdown",
   "id": "a0ece404-c462-400a-9895-728a99941eb2",
   "metadata": {},
   "source": [
    ">1. the root is the default logger for all the logs.\n",
    ">2. There are only three log messages printed. The reason behind this is the severity level of log messages and messages higher than or equal to the severity level of WARNING will only get printed."
   ]
  },
  {
   "cell_type": "code",
   "execution_count": 4,
   "id": "fd829a87-c9d7-402e-a8aa-2d6545f7cb0d",
   "metadata": {
    "execution": {
     "iopub.execute_input": "2022-05-17T06:58:32.261306Z",
     "iopub.status.busy": "2022-05-17T06:58:32.260308Z",
     "iopub.status.idle": "2022-05-17T06:58:32.287304Z",
     "shell.execute_reply": "2022-05-17T06:58:32.286311Z",
     "shell.execute_reply.started": "2022-05-17T06:58:32.261306Z"
    }
   },
   "outputs": [],
   "source": [
    "a = 10\n",
    "b = 0\n",
    "try:\n",
    "    c = a / b\n",
    "except Exception as e:\n",
    "    logging.error(\"Exception Occurred\", exc_info=True)  # whether record exception"
   ]
  },
  {
   "cell_type": "markdown",
   "id": "5b4a017b-4fa2-439e-9eb4-4a91e19c758c",
   "metadata": {},
   "source": [
    "You want to save logs higher than the WARNING severity level to a log file and higher than INFO on the console. With the help of handlers, you can do it by following code."
   ]
  },
  {
   "cell_type": "code",
   "execution_count": 5,
   "id": "2aeabed5-e713-46a1-adb1-b6ec6bfe1548",
   "metadata": {
    "execution": {
     "iopub.execute_input": "2022-05-17T06:58:32.291302Z",
     "iopub.status.busy": "2022-05-17T06:58:32.291302Z",
     "iopub.status.idle": "2022-05-17T06:58:32.336295Z",
     "shell.execute_reply": "2022-05-17T06:58:32.332296Z",
     "shell.execute_reply.started": "2022-05-17T06:58:32.291302Z"
    },
    "tags": []
   },
   "outputs": [
    {
     "name": "stderr",
     "output_type": "stream",
     "text": [
      "__main__ - WARNING - This is a warning\n",
      "__main__ - ERROR - This is an error\n",
      "__main__ - CRITICAL - This is an error\n"
     ]
    }
   ],
   "source": [
    "# if it writes into the main file, it will save log with name __main__\n",
    "# if it writes into a module(ex:utils), it will save log with name utils\n",
    "logger = logging.getLogger(__name__)\n",
    "\n",
    "# Create handlers\n",
    "c_handler = logging.StreamHandler()\n",
    "c_handler.setLevel(logging.WARNING)\n",
    "# Create formatters and add it to handlers\n",
    "c_format = logging.Formatter('%(name)s - %(levelname)s - %(message)s')\n",
    "c_handler.setFormatter(c_format)\n",
    "# Add handlers to the logger\n",
    "logger.addHandler(c_handler)\n",
    "\n",
    "f_handler = logging.FileHandler('file.log')\n",
    "f_handler.setLevel(logging.ERROR)\n",
    "f_format = logging.Formatter('%(asctime)s - %(name)s - %(levelname)s - %(message)s')\n",
    "f_handler.setFormatter(f_format)\n",
    "logger.addHandler(f_handler)\n",
    "\n",
    "logger.warning('This is a warning')\n",
    "logger.error('This is an error')\n",
    "logger.critical('This is an error')"
   ]
  },
  {
   "cell_type": "markdown",
   "id": "0ec62555-2043-425b-aca9-51a6570acb0b",
   "metadata": {},
   "source": [
    "## Rotating File Handler"
   ]
  },
  {
   "cell_type": "code",
   "execution_count": 6,
   "id": "be40ba89-82b9-4799-a28e-5fec7f3c74e8",
   "metadata": {
    "execution": {
     "iopub.execute_input": "2022-05-17T06:58:32.338296Z",
     "iopub.status.busy": "2022-05-17T06:58:32.338296Z",
     "iopub.status.idle": "2022-05-17T06:58:34.516316Z",
     "shell.execute_reply": "2022-05-17T06:58:34.515057Z",
     "shell.execute_reply.started": "2022-05-17T06:58:32.338296Z"
    },
    "tags": []
   },
   "outputs": [],
   "source": [
    "from logging.handlers import RotatingFileHandler\n",
    "\n",
    "logger = logging.getLogger(__name__)\n",
    "logger.setLevel(logging.INFO)\n",
    "\n",
    "# roll over after 2KB, and keep backup logs app.log.1, app.log.2 , etc.\n",
    "handler = RotatingFileHandler('app.log',  mode='a', maxBytes=2000, backupCount=5, encoding='utf-8')\n",
    "logger.addHandler(handler)\n",
    "\n",
    "for i in range(10000):\n",
    "    logger.info(i)"
   ]
  }
 ],
 "metadata": {
  "kernelspec": {
   "display_name": "Python 3 (ipykernel)",
   "language": "python",
   "name": "python3"
  },
  "language_info": {
   "codemirror_mode": {
    "name": "ipython",
    "version": 3
   },
   "file_extension": ".py",
   "mimetype": "text/x-python",
   "name": "python",
   "nbconvert_exporter": "python",
   "pygments_lexer": "ipython3",
   "version": "3.9.7"
  }
 },
 "nbformat": 4,
 "nbformat_minor": 5
}
