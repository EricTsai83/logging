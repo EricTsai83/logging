{
 "cells": [
  {
   "cell_type": "markdown",
   "id": "1392ed6b-cb89-4bc0-b332-6e61bd25586b",
   "metadata": {},
   "source": [
    "## logging demo code"
   ]
  },
  {
   "cell_type": "code",
   "execution_count": 1,
   "id": "1b24ef1e-c511-4fda-8295-73fcdbe5fda2",
   "metadata": {
    "execution": {
     "iopub.execute_input": "2022-05-18T14:33:20.169500Z",
     "iopub.status.busy": "2022-05-18T14:33:20.168517Z",
     "iopub.status.idle": "2022-05-18T14:33:20.207493Z",
     "shell.execute_reply": "2022-05-18T14:33:20.205494Z",
     "shell.execute_reply.started": "2022-05-18T14:33:20.169500Z"
    },
    "tags": []
   },
   "outputs": [],
   "source": [
    "import logging\n",
    "import logging.config"
   ]
  },
  {
   "cell_type": "code",
   "execution_count": 2,
   "id": "d494eaaf-8ce6-4c5a-a043-1cf203df2319",
   "metadata": {
    "execution": {
     "iopub.execute_input": "2022-05-18T14:33:20.211493Z",
     "iopub.status.busy": "2022-05-18T14:33:20.211493Z",
     "iopub.status.idle": "2022-05-18T14:33:20.236490Z",
     "shell.execute_reply": "2022-05-18T14:33:20.235489Z",
     "shell.execute_reply.started": "2022-05-18T14:33:20.211493Z"
    },
    "tags": []
   },
   "outputs": [],
   "source": [
    "# Loads The Config File\n",
    "logging.config.fileConfig('./logging.ini')"
   ]
  },
  {
   "cell_type": "code",
   "execution_count": 3,
   "id": "6baa3402-cc11-4aac-a733-fe478f2e9b7e",
   "metadata": {
    "execution": {
     "iopub.execute_input": "2022-05-18T14:33:20.239489Z",
     "iopub.status.busy": "2022-05-18T14:33:20.238488Z",
     "iopub.status.idle": "2022-05-18T14:33:20.471219Z",
     "shell.execute_reply": "2022-05-18T14:33:20.471219Z",
     "shell.execute_reply.started": "2022-05-18T14:33:20.239489Z"
    },
    "tags": []
   },
   "outputs": [],
   "source": [
    "# create a logger with the name from the config file. \n",
    "logger_root = logging.getLogger('root')\n",
    "for i in range(1000):\n",
    "    logger_root.info(i)"
   ]
  },
  {
   "cell_type": "code",
   "execution_count": 4,
   "id": "ad5f3a62-ab75-4f32-923f-e427662c048e",
   "metadata": {
    "execution": {
     "iopub.execute_input": "2022-05-18T14:33:20.474166Z",
     "iopub.status.busy": "2022-05-18T14:33:20.473167Z",
     "iopub.status.idle": "2022-05-18T14:33:20.487165Z",
     "shell.execute_reply": "2022-05-18T14:33:20.486165Z",
     "shell.execute_reply.started": "2022-05-18T14:33:20.474166Z"
    },
    "tags": []
   },
   "outputs": [],
   "source": [
    "# Log Messages\n",
    "logger_root.debug('debug message')\n",
    "logger_root.info('info message')\n",
    "logger_root.warning('warning message')\n",
    "logger_root.error('error message')"
   ]
  },
  {
   "cell_type": "code",
   "execution_count": 5,
   "id": "381dd013-4dd8-4119-bf89-f95adf19e28f",
   "metadata": {
    "execution": {
     "iopub.execute_input": "2022-05-18T14:33:20.489162Z",
     "iopub.status.busy": "2022-05-18T14:33:20.489162Z",
     "iopub.status.idle": "2022-05-18T14:33:20.519157Z",
     "shell.execute_reply": "2022-05-18T14:33:20.518159Z",
     "shell.execute_reply.started": "2022-05-18T14:33:20.489162Z"
    },
    "tags": []
   },
   "outputs": [
    {
     "name": "stdout",
     "output_type": "stream",
     "text": [
      "module  : 2022-05-18 22:33:20,494 - WARNING - 535464226 - <cell line: 5> - warning message\n",
      "module  : 2022-05-18 22:33:20,501 - ERROR   - 535464226 - <cell line: 6> - error message\n"
     ]
    }
   ],
   "source": [
    "logger_module = logging.getLogger('module')\n",
    "## Log Messages\n",
    "logger_module.debug('debug message')\n",
    "logger_module.info('info message')\n",
    "logger_module.warning('warning message')\n",
    "logger_module.error('error message')"
   ]
  },
  {
   "cell_type": "markdown",
   "id": "624978be-212a-47b8-8662-390b7fc98761",
   "metadata": {},
   "source": [
    "## Use python to create logging config"
   ]
  },
  {
   "cell_type": "code",
   "execution_count": 6,
   "id": "d121d4a6-19d9-4804-b525-1b0f5419ce8a",
   "metadata": {
    "execution": {
     "iopub.execute_input": "2022-05-18T14:33:20.523162Z",
     "iopub.status.busy": "2022-05-18T14:33:20.521157Z",
     "iopub.status.idle": "2022-05-18T14:33:20.535156Z",
     "shell.execute_reply": "2022-05-18T14:33:20.534158Z",
     "shell.execute_reply.started": "2022-05-18T14:33:20.523162Z"
    }
   },
   "outputs": [],
   "source": [
    "import configparser"
   ]
  },
  {
   "cell_type": "code",
   "execution_count": 7,
   "id": "d57aa563-b5d8-4b50-951e-f4b8917fc6f4",
   "metadata": {
    "execution": {
     "iopub.execute_input": "2022-05-18T14:33:20.539154Z",
     "iopub.status.busy": "2022-05-18T14:33:20.539154Z",
     "iopub.status.idle": "2022-05-18T14:33:20.551152Z",
     "shell.execute_reply": "2022-05-18T14:33:20.550153Z",
     "shell.execute_reply.started": "2022-05-18T14:33:20.539154Z"
    }
   },
   "outputs": [],
   "source": [
    "config = configparser.ConfigParser()"
   ]
  },
  {
   "cell_type": "code",
   "execution_count": 8,
   "id": "ffc1bac2-8b2f-4a40-9b74-7c0c67dd9bdb",
   "metadata": {
    "execution": {
     "iopub.execute_input": "2022-05-18T14:33:20.553152Z",
     "iopub.status.busy": "2022-05-18T14:33:20.553152Z",
     "iopub.status.idle": "2022-05-18T14:33:20.581147Z",
     "shell.execute_reply": "2022-05-18T14:33:20.580148Z",
     "shell.execute_reply.started": "2022-05-18T14:33:20.553152Z"
    },
    "tags": []
   },
   "outputs": [],
   "source": [
    "config['DEFAULT'] = {'ServerAliveInterval': '45',\n",
    "                      'Compression': 'yes',\n",
    "                     'CompressionLevel': '9'}"
   ]
  },
  {
   "cell_type": "code",
   "execution_count": 9,
   "id": "166abaae-8faf-4221-833e-aa3b915ccfd6",
   "metadata": {
    "execution": {
     "iopub.execute_input": "2022-05-18T14:33:20.583148Z",
     "iopub.status.busy": "2022-05-18T14:33:20.583148Z",
     "iopub.status.idle": "2022-05-18T14:33:20.612144Z",
     "shell.execute_reply": "2022-05-18T14:33:20.611143Z",
     "shell.execute_reply.started": "2022-05-18T14:33:20.583148Z"
    }
   },
   "outputs": [
    {
     "data": {
      "text/plain": [
       "<configparser.ConfigParser at 0x1ee16c75610>"
      ]
     },
     "execution_count": 9,
     "metadata": {},
     "output_type": "execute_result"
    }
   ],
   "source": [
    "config"
   ]
  },
  {
   "cell_type": "code",
   "execution_count": 10,
   "id": "c03d591d-cba4-41ff-be03-67807e6ac6f1",
   "metadata": {
    "execution": {
     "iopub.execute_input": "2022-05-18T14:33:20.615144Z",
     "iopub.status.busy": "2022-05-18T14:33:20.614143Z",
     "iopub.status.idle": "2022-05-18T14:33:20.628140Z",
     "shell.execute_reply": "2022-05-18T14:33:20.627141Z",
     "shell.execute_reply.started": "2022-05-18T14:33:20.615144Z"
    }
   },
   "outputs": [],
   "source": [
    "with open('example.ini', 'w') as configfile:\n",
    "    config.write(configfile)"
   ]
  }
 ],
 "metadata": {
  "kernelspec": {
   "display_name": "Python 3 (ipykernel)",
   "language": "python",
   "name": "python3"
  },
  "language_info": {
   "codemirror_mode": {
    "name": "ipython",
    "version": 3
   },
   "file_extension": ".py",
   "mimetype": "text/x-python",
   "name": "python",
   "nbconvert_exporter": "python",
   "pygments_lexer": "ipython3",
   "version": "3.9.7"
  }
 },
 "nbformat": 4,
 "nbformat_minor": 5
}
